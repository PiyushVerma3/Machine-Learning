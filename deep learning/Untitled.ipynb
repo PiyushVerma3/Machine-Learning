{
 "cells": [
  {
   "cell_type": "code",
   "execution_count": 1,
   "id": "7c3abbfe",
   "metadata": {},
   "outputs": [],
   "source": [
    "import numpy as np\n",
    "\n",
    "\n",
    "y_predicted = np.array([1,1,0,0,1])\n",
    "y_true = np.array([0.30,0.7,1,0,0.5])"
   ]
  },
  {
   "cell_type": "code",
   "execution_count": 7,
   "id": "f6117c38",
   "metadata": {},
   "outputs": [],
   "source": [
    "def mae(y_true,y_predicted):\n",
    "    total_error=0\n",
    "    for yt,yp in zip(y_true,y_predicted):\n",
    "        total_error += abs(yt-yp)\n",
    "    mae = total_error / len(y_true) \n",
    "    print(mae)"
   ]
  },
  {
   "cell_type": "code",
   "execution_count": 8,
   "id": "b2519267",
   "metadata": {},
   "outputs": [
    {
     "name": "stdout",
     "output_type": "stream",
     "text": [
      "0.5\n"
     ]
    }
   ],
   "source": [
    "mae(y_true,y_predicted)"
   ]
  },
  {
   "cell_type": "code",
   "execution_count": 11,
   "id": "a4764846",
   "metadata": {},
   "outputs": [
    {
     "data": {
      "text/plain": [
       "0.6"
      ]
     },
     "execution_count": 11,
     "metadata": {},
     "output_type": "execute_result"
    }
   ],
   "source": [
    "np.mean(np.abs(y_predicted,y_true))"
   ]
  },
  {
   "cell_type": "code",
   "execution_count": 12,
   "id": "694710a2",
   "metadata": {},
   "outputs": [
    {
     "data": {
      "text/plain": [
       "array([1, 1, 0, 0, 1])"
      ]
     },
     "execution_count": 12,
     "metadata": {},
     "output_type": "execute_result"
    }
   ],
   "source": [
    "eplison = 1e-15\n",
    "y_predicted"
   ]
  },
  {
   "cell_type": "code",
   "execution_count": 28,
   "id": "a80e0192",
   "metadata": {},
   "outputs": [],
   "source": [
    "Y_predicted_new = [max(i,eplison)for i in y_predicted]"
   ]
  },
  {
   "cell_type": "code",
   "execution_count": 29,
   "id": "78df7575",
   "metadata": {},
   "outputs": [
    {
     "data": {
      "text/plain": [
       "[1, 1, 1e-15, 1e-15, 1]"
      ]
     },
     "execution_count": 29,
     "metadata": {},
     "output_type": "execute_result"
    }
   ],
   "source": [
    "Y_predicted_new"
   ]
  },
  {
   "cell_type": "code",
   "execution_count": 30,
   "id": "f1dd3cae",
   "metadata": {},
   "outputs": [],
   "source": [
    "Y_predicted_new = [min(i,1-eplison) for i in Y_predicted_new]"
   ]
  },
  {
   "cell_type": "code",
   "execution_count": 31,
   "id": "7b8f32f5",
   "metadata": {},
   "outputs": [
    {
     "data": {
      "text/plain": [
       "[0.999999999999999, 0.999999999999999, 1e-15, 1e-15, 0.999999999999999]"
      ]
     },
     "execution_count": 31,
     "metadata": {},
     "output_type": "execute_result"
    }
   ],
   "source": [
    "Y_predicted_new"
   ]
  },
  {
   "cell_type": "code",
   "execution_count": 32,
   "id": "4a1187b4",
   "metadata": {},
   "outputs": [],
   "source": [
    "Y_pred = np.array(Y_predicted_new)"
   ]
  },
  {
   "cell_type": "code",
   "execution_count": 33,
   "id": "bdff23ec",
   "metadata": {},
   "outputs": [
    {
     "data": {
      "text/plain": [
       "array([-9.99200722e-16, -9.99200722e-16, -3.45387764e+01, -3.45387764e+01,\n",
       "       -9.99200722e-16])"
      ]
     },
     "execution_count": 33,
     "metadata": {},
     "output_type": "execute_result"
    }
   ],
   "source": [
    "np.log(Y_pred)"
   ]
  },
  {
   "cell_type": "code",
   "execution_count": 34,
   "id": "aaa57279",
   "metadata": {},
   "outputs": [
    {
     "data": {
      "text/plain": [
       "9.992007221626415e-16"
      ]
     },
     "execution_count": 34,
     "metadata": {},
     "output_type": "execute_result"
    }
   ],
   "source": [
    "-np.mean(y_true*np.log(Y_pred)+(1-y_true)*np.log(1-Y_pred))"
   ]
  },
  {
   "cell_type": "code",
   "execution_count": null,
   "id": "d8274faa",
   "metadata": {},
   "outputs": [],
   "source": []
  }
 ],
 "metadata": {
  "kernelspec": {
   "display_name": "Python 3 (ipykernel)",
   "language": "python",
   "name": "python3"
  },
  "language_info": {
   "codemirror_mode": {
    "name": "ipython",
    "version": 3
   },
   "file_extension": ".py",
   "mimetype": "text/x-python",
   "name": "python",
   "nbconvert_exporter": "python",
   "pygments_lexer": "ipython3",
   "version": "3.9.7"
  }
 },
 "nbformat": 4,
 "nbformat_minor": 5
}
