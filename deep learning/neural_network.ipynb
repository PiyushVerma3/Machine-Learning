{
 "cells": [
  {
   "cell_type": "code",
   "execution_count": 73,
   "id": "7ae261ab",
   "metadata": {},
   "outputs": [],
   "source": [
    "import numpy as np\n",
    "import pandas as pd\n"
   ]
  },
  {
   "cell_type": "code",
   "execution_count": 74,
   "id": "f424c0c9",
   "metadata": {},
   "outputs": [
    {
     "data": {
      "text/html": [
       "<div>\n",
       "<style scoped>\n",
       "    .dataframe tbody tr th:only-of-type {\n",
       "        vertical-align: middle;\n",
       "    }\n",
       "\n",
       "    .dataframe tbody tr th {\n",
       "        vertical-align: top;\n",
       "    }\n",
       "\n",
       "    .dataframe thead th {\n",
       "        text-align: right;\n",
       "    }\n",
       "</style>\n",
       "<table border=\"1\" class=\"dataframe\">\n",
       "  <thead>\n",
       "    <tr style=\"text-align: right;\">\n",
       "      <th></th>\n",
       "      <th>age</th>\n",
       "      <th>affordibility</th>\n",
       "      <th>bought_insurance</th>\n",
       "    </tr>\n",
       "  </thead>\n",
       "  <tbody>\n",
       "    <tr>\n",
       "      <th>0</th>\n",
       "      <td>22</td>\n",
       "      <td>1</td>\n",
       "      <td>0</td>\n",
       "    </tr>\n",
       "    <tr>\n",
       "      <th>1</th>\n",
       "      <td>25</td>\n",
       "      <td>0</td>\n",
       "      <td>0</td>\n",
       "    </tr>\n",
       "    <tr>\n",
       "      <th>2</th>\n",
       "      <td>47</td>\n",
       "      <td>1</td>\n",
       "      <td>1</td>\n",
       "    </tr>\n",
       "    <tr>\n",
       "      <th>3</th>\n",
       "      <td>52</td>\n",
       "      <td>0</td>\n",
       "      <td>0</td>\n",
       "    </tr>\n",
       "    <tr>\n",
       "      <th>4</th>\n",
       "      <td>46</td>\n",
       "      <td>1</td>\n",
       "      <td>1</td>\n",
       "    </tr>\n",
       "  </tbody>\n",
       "</table>\n",
       "</div>"
      ],
      "text/plain": [
       "   age  affordibility  bought_insurance\n",
       "0   22              1                 0\n",
       "1   25              0                 0\n",
       "2   47              1                 1\n",
       "3   52              0                 0\n",
       "4   46              1                 1"
      ]
     },
     "execution_count": 74,
     "metadata": {},
     "output_type": "execute_result"
    }
   ],
   "source": [
    "df = pd.read_csv('ins_aff.csv')\n",
    "df.head()"
   ]
  },
  {
   "cell_type": "code",
   "execution_count": 75,
   "id": "5ba9041a",
   "metadata": {},
   "outputs": [],
   "source": [
    "from sklearn.model_selection import train_test_split\n",
    "X_train,X_test,Y_train,Y_test = train_test_split(df[['age','affordibility']],df['bought_insurance'],test_size=0.2)"
   ]
  },
  {
   "cell_type": "code",
   "execution_count": 76,
   "id": "b7e4ec8a",
   "metadata": {},
   "outputs": [],
   "source": [
    "X_train_scaled = X_train.copy()\n",
    "X_train_scaled['age'] = X_train_scaled['age']/100\n",
    "\n",
    "\n",
    "X_test_scaled = X_test.copy()\n",
    "X_test_scaled['age'] = X_test_scaled['age']/100"
   ]
  },
  {
   "cell_type": "code",
   "execution_count": 77,
   "id": "ca63e2f7",
   "metadata": {},
   "outputs": [
    {
     "data": {
      "text/html": [
       "<div>\n",
       "<style scoped>\n",
       "    .dataframe tbody tr th:only-of-type {\n",
       "        vertical-align: middle;\n",
       "    }\n",
       "\n",
       "    .dataframe tbody tr th {\n",
       "        vertical-align: top;\n",
       "    }\n",
       "\n",
       "    .dataframe thead th {\n",
       "        text-align: right;\n",
       "    }\n",
       "</style>\n",
       "<table border=\"1\" class=\"dataframe\">\n",
       "  <thead>\n",
       "    <tr style=\"text-align: right;\">\n",
       "      <th></th>\n",
       "      <th>age</th>\n",
       "      <th>affordibility</th>\n",
       "    </tr>\n",
       "  </thead>\n",
       "  <tbody>\n",
       "    <tr>\n",
       "      <th>26</th>\n",
       "      <td>0.23</td>\n",
       "      <td>1</td>\n",
       "    </tr>\n",
       "    <tr>\n",
       "      <th>7</th>\n",
       "      <td>0.60</td>\n",
       "      <td>0</td>\n",
       "    </tr>\n",
       "    <tr>\n",
       "      <th>24</th>\n",
       "      <td>0.50</td>\n",
       "      <td>1</td>\n",
       "    </tr>\n",
       "    <tr>\n",
       "      <th>12</th>\n",
       "      <td>0.27</td>\n",
       "      <td>0</td>\n",
       "    </tr>\n",
       "    <tr>\n",
       "      <th>11</th>\n",
       "      <td>0.28</td>\n",
       "      <td>1</td>\n",
       "    </tr>\n",
       "  </tbody>\n",
       "</table>\n",
       "</div>"
      ],
      "text/plain": [
       "     age  affordibility\n",
       "26  0.23              1\n",
       "7   0.60              0\n",
       "24  0.50              1\n",
       "12  0.27              0\n",
       "11  0.28              1"
      ]
     },
     "execution_count": 77,
     "metadata": {},
     "output_type": "execute_result"
    }
   ],
   "source": [
    "X_train_scaled.head()"
   ]
  },
  {
   "cell_type": "code",
   "execution_count": 78,
   "id": "287f6b40",
   "metadata": {},
   "outputs": [
    {
     "data": {
      "text/plain": [
       "26    0\n",
       "7     1\n",
       "24    1\n",
       "12    0\n",
       "11    0\n",
       "Name: bought_insurance, dtype: int64"
      ]
     },
     "execution_count": 78,
     "metadata": {},
     "output_type": "execute_result"
    }
   ],
   "source": [
    "Y_train.head()"
   ]
  },
  {
   "cell_type": "code",
   "execution_count": null,
   "id": "ee997ee4",
   "metadata": {},
   "outputs": [],
   "source": []
  },
  {
   "cell_type": "code",
   "execution_count": 79,
   "id": "fad91da0",
   "metadata": {},
   "outputs": [],
   "source": [
    "class myNN:\n",
    "    def __init__(self):\n",
    "        self.w1 = 1\n",
    "        self.w2 = 1\n",
    "        self.bias = 0\n",
    "    \n",
    "    def sigmoid_numpy(self , X):\n",
    "        return 1/(1+np.exp(-X))\n",
    "    \n",
    "    def fit(self, X, Y , epochs, loss_threshold):\n",
    "        self.w1, self.w2 , self.bias = self.gradient_descent(X['age'],X['affordibility'],Y, epochs, loss_threshold)\n",
    "    \n",
    "    def log_loss(self,Y_true,Y_predicted):\n",
    "        epsilon = 1e-15\n",
    "        y_predicted_new = [max(i,epsilon) for i in Y_predicted]\n",
    "        y_predicted_new = [min(i,1-epsilon) for i in y_predicted_new]\n",
    "        y_predicted_new = np.array(y_predicted_new)\n",
    "        return -np.mean(Y_true*np.log(y_predicted_new)+((1-Y_true)*np.log(1-y_predicted_new)))\n",
    "    \n",
    "    def predict(self, X_test):\n",
    "        weighted_sum = self.w1*X_test['age']+self.w2*X_test['affordibility']+self.bias\n",
    "        return self.sigmoid_numpy(weighted_sum)\n",
    "    \n",
    "    def gradient_descent(self,age,affordability,y_true,epochs,loss_threshold):\n",
    "        #w1,w2,bias\n",
    "        w1,w2 =1,1\n",
    "        bias = 0\n",
    "        learning_rate = 0.5\n",
    "        n = len(age)\n",
    "        for i in range(epochs):\n",
    "            weighted_sum = w1*age+w2*affordability+bias\n",
    "            y_predicted = self.sigmoid_numpy(weighted_sum)\n",
    "            loss = self.log_loss(y_true,y_predicted)\n",
    "            w1d =  (1/n)*np.dot(np.transpose(age),(y_predicted-y_true))\n",
    "            w2d =  (1/n)*np.dot(np.transpose(affordability),(y_predicted-y_true))\n",
    "\n",
    "            bias_d = np.mean(y_predicted-y_true)\n",
    "\n",
    "\n",
    "            w1 = w1 - learning_rate*w1d\n",
    "            w2 = w2 - learning_rate*w2d\n",
    "            bias = bias - learning_rate*bias_d\n",
    "\n",
    "            if(loss <= loss_threshold):\n",
    "                break\n",
    "            if(i%50 == 0):\n",
    "                print(f'Epoch:{i}, w1:{w1}, w2:{w2}, bias:{bias}, loss:{loss}')\n",
    "        return w1,w2,bias    \n",
    "           \n",
    "        \n",
    "            \n",
    "    "
   ]
  },
  {
   "cell_type": "code",
   "execution_count": null,
   "id": "176b89cb",
   "metadata": {},
   "outputs": [],
   "source": []
  },
  {
   "cell_type": "code",
   "execution_count": 80,
   "id": "f940daaf",
   "metadata": {},
   "outputs": [
    {
     "name": "stdout",
     "output_type": "stream",
     "text": [
      "Epoch:0, w1:0.9731084148035436, w2:0.9486006719907148, bias:-0.11355882789613493, loss:0.7150764108848041\n",
      "Epoch:50, w1:1.4293907709218443, w2:1.1278109396553817, bias:-1.2166099427422177, loss:0.574634950693045\n",
      "Epoch:100, w1:2.0748582735877754, w2:1.3247879947256938, bias:-1.630849433049416, loss:0.5492395891782271\n",
      "Epoch:150, w1:2.6855018476952077, w2:1.407302392909449, bias:-1.944422236718956, loss:0.5300171849157425\n",
      "Epoch:200, w1:3.2508873416381454, w2:1.4463639290554504, bias:-2.2061164053717612, loss:0.5143705458746853\n",
      "Epoch:250, w1:3.7700742023202505, w2:1.4690363487870377, bias:-2.436190694749447, loss:0.5014053753002484\n",
      "Epoch:300, w1:4.245644949076507, w2:1.4858781339721332, bias:-2.643874513197672, loss:0.49058599311587847\n",
      "Epoch:350, w1:4.681321599771034, w2:1.5009404703945224, bias:-2.8338687740298165, loss:0.4815112011663535\n",
      "Epoch:400, w1:5.0809904841043165, w2:1.5156739136822066, bias:-3.008921131633108, loss:0.473863517753834\n"
     ]
    }
   ],
   "source": [
    "model = myNN()\n",
    "model.fit(X_train_scaled, Y_train,epochs=500,loss_threshold= 0.4712)"
   ]
  },
  {
   "cell_type": "code",
   "execution_count": 81,
   "id": "edc5c7e1",
   "metadata": {},
   "outputs": [
    {
     "data": {
      "text/plain": [
       "20    0.388181\n",
       "14    0.732998\n",
       "18    0.110939\n",
       "9     0.837219\n",
       "17    0.814683\n",
       "0     0.400676\n",
       "dtype: float64"
      ]
     },
     "execution_count": 81,
     "metadata": {},
     "output_type": "execute_result"
    }
   ],
   "source": [
    "model.predict(X_test_scaled)"
   ]
  },
  {
   "cell_type": "code",
   "execution_count": 82,
   "id": "1089be68",
   "metadata": {},
   "outputs": [
    {
     "data": {
      "text/html": [
       "<div>\n",
       "<style scoped>\n",
       "    .dataframe tbody tr th:only-of-type {\n",
       "        vertical-align: middle;\n",
       "    }\n",
       "\n",
       "    .dataframe tbody tr th {\n",
       "        vertical-align: top;\n",
       "    }\n",
       "\n",
       "    .dataframe thead th {\n",
       "        text-align: right;\n",
       "    }\n",
       "</style>\n",
       "<table border=\"1\" class=\"dataframe\">\n",
       "  <thead>\n",
       "    <tr style=\"text-align: right;\">\n",
       "      <th></th>\n",
       "      <th>age</th>\n",
       "      <th>affordibility</th>\n",
       "    </tr>\n",
       "  </thead>\n",
       "  <tbody>\n",
       "    <tr>\n",
       "      <th>20</th>\n",
       "      <td>0.21</td>\n",
       "      <td>1</td>\n",
       "    </tr>\n",
       "    <tr>\n",
       "      <th>14</th>\n",
       "      <td>0.49</td>\n",
       "      <td>1</td>\n",
       "    </tr>\n",
       "    <tr>\n",
       "      <th>18</th>\n",
       "      <td>0.19</td>\n",
       "      <td>0</td>\n",
       "    </tr>\n",
       "    <tr>\n",
       "      <th>9</th>\n",
       "      <td>0.61</td>\n",
       "      <td>1</td>\n",
       "    </tr>\n",
       "    <tr>\n",
       "      <th>17</th>\n",
       "      <td>0.58</td>\n",
       "      <td>1</td>\n",
       "    </tr>\n",
       "    <tr>\n",
       "      <th>0</th>\n",
       "      <td>0.22</td>\n",
       "      <td>1</td>\n",
       "    </tr>\n",
       "  </tbody>\n",
       "</table>\n",
       "</div>"
      ],
      "text/plain": [
       "     age  affordibility\n",
       "20  0.21              1\n",
       "14  0.49              1\n",
       "18  0.19              0\n",
       "9   0.61              1\n",
       "17  0.58              1\n",
       "0   0.22              1"
      ]
     },
     "execution_count": 82,
     "metadata": {},
     "output_type": "execute_result"
    }
   ],
   "source": [
    "X_test_scaled"
   ]
  },
  {
   "cell_type": "code",
   "execution_count": null,
   "id": "f12a6729",
   "metadata": {},
   "outputs": [],
   "source": []
  },
  {
   "cell_type": "code",
   "execution_count": null,
   "id": "325256b5",
   "metadata": {},
   "outputs": [],
   "source": []
  },
  {
   "cell_type": "code",
   "execution_count": null,
   "id": "ef5fe103",
   "metadata": {},
   "outputs": [],
   "source": []
  }
 ],
 "metadata": {
  "kernelspec": {
   "display_name": "Python 3 (ipykernel)",
   "language": "python",
   "name": "python3"
  },
  "language_info": {
   "codemirror_mode": {
    "name": "ipython",
    "version": 3
   },
   "file_extension": ".py",
   "mimetype": "text/x-python",
   "name": "python",
   "nbconvert_exporter": "python",
   "pygments_lexer": "ipython3",
   "version": "3.9.7"
  }
 },
 "nbformat": 4,
 "nbformat_minor": 5
}
